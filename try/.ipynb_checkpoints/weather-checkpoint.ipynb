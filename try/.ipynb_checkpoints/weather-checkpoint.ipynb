{
 "cells": [
  {
   "cell_type": "code",
   "execution_count": 2,
   "metadata": {},
   "outputs": [
    {
     "data": {
      "text/plain": [
       "{'Outlook': {'sunny': {'Humidity': {'normal': 'yes', 'high': 'no'}},\n",
       "  'rainy': {'Windy': {'TRUE': 'no', 'FALSE': 'yes'}},\n",
       "  'overcast': 'yes'}}"
      ]
     },
     "execution_count": 2,
     "metadata": {},
     "output_type": "execute_result"
    }
   ],
   "source": [
    "import trees\n",
    "fr = open('weather.txt')\n",
    "weather = [inst.strip().split('\\t') for inst in fr.readlines()]\n",
    "weather_fea_name = ['Outlook','Temperature','Humidity','Windy','Good_State']\n",
    "weatherTree = trees.createTree(weather,weather_fea_name)\n",
    "weatherTree"
   ]
  },
  {
   "cell_type": "code",
   "execution_count": 4,
   "metadata": {},
   "outputs": [
    {
     "data": {
      "text/plain": [
       "'no'"
      ]
     },
     "execution_count": 4,
     "metadata": {},
     "output_type": "execute_result"
    }
   ],
   "source": [
    "import importlib\n",
    "importlib.reload(trees)\n",
    "labels = ['Outlook','Temperature','Humidity','Windy']\n",
    "Monday = ['sunny','hot','high','True']\n",
    "trees.classify(weatherTree,labels,Monday)"
   ]
  },
  {
   "cell_type": "code",
   "execution_count": null,
   "metadata": {},
   "outputs": [],
   "source": []
  }
 ],
 "metadata": {
  "kernelspec": {
   "display_name": "Python 3",
   "language": "python",
   "name": "python3"
  },
  "language_info": {
   "codemirror_mode": {
    "name": "ipython",
    "version": 3
   },
   "file_extension": ".py",
   "mimetype": "text/x-python",
   "name": "python",
   "nbconvert_exporter": "python",
   "pygments_lexer": "ipython3",
   "version": "3.8.3"
  }
 },
 "nbformat": 4,
 "nbformat_minor": 4
}
